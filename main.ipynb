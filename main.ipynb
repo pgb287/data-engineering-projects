{
 "cells": [
  {
   "cell_type": "code",
   "execution_count": 140,
   "metadata": {},
   "outputs": [],
   "source": [
    "# pip install twilio\n",
    "\n",
    "# import os\n",
    "from twilio.rest import Client\n",
    "from twilio_config import TWILIO_ACCOUNT_SID, TWILIO_AUTH_TOKEN, PHONE_NUMBER, API_KEY_WAPI\n",
    "# import time\n",
    "\n",
    "# from requests import Request,Session\n",
    "# from requests.exceptions import ConnectionError,Timeout,TooManyRedirects\n",
    "import json\n",
    "\n",
    "import pandas as pd\n",
    "import requests\n",
    "# from bs4 import BeautifulSoup\n",
    "from tqdm import tqdm\n",
    "from time import sleep\n",
    "\n",
    "# from datetime import datetime"
   ]
  },
  {
   "cell_type": "code",
   "execution_count": 120,
   "metadata": {},
   "outputs": [],
   "source": [
    "query = \"San Salvador de Jujuy\"\n",
    "api_key = API_KEY_WAPI\n",
    "\n",
    "url_clima = f\"http://api.weatherapi.com/v1/forecast.json?key={api_key}&q={query}&days=1&aqi=no&alerts=no\"\n",
    "\n",
    "response = requests.get(url_clima).json()\n",
    "# Ver la estructura que almacena la variable response en: 'estructura.json'"
   ]
  },
  {
   "cell_type": "code",
   "execution_count": 121,
   "metadata": {},
   "outputs": [
    {
     "name": "stdout",
     "output_type": "stream",
     "text": [
      "dict_keys(['location', 'current', 'forecast'])\n"
     ]
    }
   ],
   "source": [
    "# Llaves principales de la estructura del JSON. \n",
    "print(response.keys())"
   ]
  },
  {
   "cell_type": "code",
   "execution_count": 122,
   "metadata": {},
   "outputs": [
    {
     "name": "stdout",
     "output_type": "stream",
     "text": [
      "dict_keys(['date', 'date_epoch', 'day', 'astro', 'hour'])\n"
     ]
    }
   ],
   "source": [
    "# Llaves principales de la estructura de segundo nivel dentro de \"forecast\"\n",
    "print(response['forecast']['forecastday'][0].keys())"
   ]
  },
  {
   "cell_type": "code",
   "execution_count": 123,
   "metadata": {},
   "outputs": [
    {
     "name": "stdout",
     "output_type": "stream",
     "text": [
      "24\n"
     ]
    }
   ],
   "source": [
    "# Dentro de la llave 'hour' tenemos una lista de diccionarios correspondientes al pronostico en cada hora del dia, es decir 24 diccionarios \n",
    "print(len(response['forecast']['forecastday'][0]['hour']))"
   ]
  },
  {
   "cell_type": "code",
   "execution_count": 124,
   "metadata": {},
   "outputs": [
    {
     "name": "stdout",
     "output_type": "stream",
     "text": [
      "2023-11-21\n",
      "10\n",
      "Sunny\n",
      "28.0\n",
      "0\n",
      "0\n"
     ]
    }
   ],
   "source": [
    "# TOMANDO COMO EJEMPLO EL DECIMO DICCIONARIO (10:00hs)\n",
    "# Obtener fecha\n",
    "print(response['forecast']['forecastday'][0]['hour'][10]['time'].split()[0])\n",
    "# Obtener hora\n",
    "print(response['forecast']['forecastday'][0]['hour'][10]['time'].split()[1].split(':')[0])\n",
    "# Obtener condicion\n",
    "print(response['forecast']['forecastday'][0]['hour'][10]['condition']['text'])\n",
    "# Obtener temperatura\n",
    "print(response['forecast']['forecastday'][0]['hour'][10]['temp_c'])\n",
    "# Obtener respuesta a llovera? 1=si 0=no\n",
    "print(response['forecast']['forecastday'][0]['hour'][10]['will_it_rain'])\n",
    "# Obtener probabilidad de lluvia\n",
    "print(response['forecast']['forecastday'][0]['hour'][10]['chance_of_rain'])"
   ]
  },
  {
   "cell_type": "code",
   "execution_count": 125,
   "metadata": {},
   "outputs": [],
   "source": [
    "def get_forecast(response,i):\n",
    "    fecha = response['forecast']['forecastday'][0]['hour'][i]['time'].split()[0]\n",
    "    hora = int(response['forecast']['forecastday'][0]['hour'][i]['time'].split()[\n",
    "        1].split(':')[0])\n",
    "    condicion = response['forecast']['forecastday'][0]['hour'][i]['condition']['text']\n",
    "    temperatura = response['forecast']['forecastday'][0]['hour'][i]['temp_c']\n",
    "    lluvia = response['forecast']['forecastday'][0]['hour'][i]['will_it_rain']\n",
    "    prob_lluvia = response['forecast']['forecastday'][0]['hour'][i]['chance_of_rain']\n",
    "    return fecha,hora,condicion,temperatura,lluvia,prob_lluvia"
   ]
  },
  {
   "cell_type": "code",
   "execution_count": 126,
   "metadata": {},
   "outputs": [
    {
     "name": "stderr",
     "output_type": "stream",
     "text": [
      "100%|\u001b[32m██████████\u001b[0m| 24/24 [00:00<?, ?it/s]\n"
     ]
    }
   ],
   "source": [
    "datos = []\n",
    "for i in tqdm(range(len(response['forecast']['forecastday'][0]['hour'])), colour='green'):    \n",
    "    datos.append(get_forecast(response,i))    \n",
    "    #sleep(0.5)    "
   ]
  },
  {
   "cell_type": "code",
   "execution_count": 127,
   "metadata": {},
   "outputs": [],
   "source": [
    "col = ['Fecha','Hora','Condicion','Temperatura','Lluvia','Prob_lluvia']\n",
    "df = pd.DataFrame(datos,columns=col)"
   ]
  },
  {
   "cell_type": "code",
   "execution_count": 128,
   "metadata": {},
   "outputs": [
    {
     "data": {
      "text/html": [
       "<div>\n",
       "<style scoped>\n",
       "    .dataframe tbody tr th:only-of-type {\n",
       "        vertical-align: middle;\n",
       "    }\n",
       "\n",
       "    .dataframe tbody tr th {\n",
       "        vertical-align: top;\n",
       "    }\n",
       "\n",
       "    .dataframe thead th {\n",
       "        text-align: right;\n",
       "    }\n",
       "</style>\n",
       "<table border=\"1\" class=\"dataframe\">\n",
       "  <thead>\n",
       "    <tr style=\"text-align: right;\">\n",
       "      <th></th>\n",
       "      <th>Fecha</th>\n",
       "      <th>Hora</th>\n",
       "      <th>Condicion</th>\n",
       "      <th>Temperatura</th>\n",
       "      <th>Lluvia</th>\n",
       "      <th>Prob_lluvia</th>\n",
       "    </tr>\n",
       "  </thead>\n",
       "  <tbody>\n",
       "    <tr>\n",
       "      <th>0</th>\n",
       "      <td>2023-11-21</td>\n",
       "      <td>0</td>\n",
       "      <td>Clear</td>\n",
       "      <td>19.1</td>\n",
       "      <td>0</td>\n",
       "      <td>0</td>\n",
       "    </tr>\n",
       "    <tr>\n",
       "      <th>1</th>\n",
       "      <td>2023-11-21</td>\n",
       "      <td>1</td>\n",
       "      <td>Clear</td>\n",
       "      <td>30.0</td>\n",
       "      <td>0</td>\n",
       "      <td>0</td>\n",
       "    </tr>\n",
       "    <tr>\n",
       "      <th>2</th>\n",
       "      <td>2023-11-21</td>\n",
       "      <td>2</td>\n",
       "      <td>Clear</td>\n",
       "      <td>17.4</td>\n",
       "      <td>0</td>\n",
       "      <td>0</td>\n",
       "    </tr>\n",
       "    <tr>\n",
       "      <th>3</th>\n",
       "      <td>2023-11-21</td>\n",
       "      <td>3</td>\n",
       "      <td>Clear</td>\n",
       "      <td>17.2</td>\n",
       "      <td>0</td>\n",
       "      <td>0</td>\n",
       "    </tr>\n",
       "    <tr>\n",
       "      <th>4</th>\n",
       "      <td>2023-11-21</td>\n",
       "      <td>4</td>\n",
       "      <td>Patchy rain possible</td>\n",
       "      <td>16.0</td>\n",
       "      <td>1</td>\n",
       "      <td>71</td>\n",
       "    </tr>\n",
       "    <tr>\n",
       "      <th>5</th>\n",
       "      <td>2023-11-21</td>\n",
       "      <td>5</td>\n",
       "      <td>Clear</td>\n",
       "      <td>15.9</td>\n",
       "      <td>0</td>\n",
       "      <td>0</td>\n",
       "    </tr>\n",
       "    <tr>\n",
       "      <th>6</th>\n",
       "      <td>2023-11-21</td>\n",
       "      <td>6</td>\n",
       "      <td>Clear</td>\n",
       "      <td>15.7</td>\n",
       "      <td>0</td>\n",
       "      <td>0</td>\n",
       "    </tr>\n",
       "    <tr>\n",
       "      <th>7</th>\n",
       "      <td>2023-11-21</td>\n",
       "      <td>7</td>\n",
       "      <td>Sunny</td>\n",
       "      <td>17.9</td>\n",
       "      <td>0</td>\n",
       "      <td>0</td>\n",
       "    </tr>\n",
       "    <tr>\n",
       "      <th>8</th>\n",
       "      <td>2023-11-21</td>\n",
       "      <td>8</td>\n",
       "      <td>Sunny</td>\n",
       "      <td>23.9</td>\n",
       "      <td>0</td>\n",
       "      <td>0</td>\n",
       "    </tr>\n",
       "    <tr>\n",
       "      <th>9</th>\n",
       "      <td>2023-11-21</td>\n",
       "      <td>9</td>\n",
       "      <td>Sunny</td>\n",
       "      <td>25.9</td>\n",
       "      <td>0</td>\n",
       "      <td>0</td>\n",
       "    </tr>\n",
       "    <tr>\n",
       "      <th>10</th>\n",
       "      <td>2023-11-21</td>\n",
       "      <td>10</td>\n",
       "      <td>Sunny</td>\n",
       "      <td>28.0</td>\n",
       "      <td>0</td>\n",
       "      <td>0</td>\n",
       "    </tr>\n",
       "    <tr>\n",
       "      <th>11</th>\n",
       "      <td>2023-11-21</td>\n",
       "      <td>11</td>\n",
       "      <td>Patchy rain possible</td>\n",
       "      <td>29.9</td>\n",
       "      <td>1</td>\n",
       "      <td>85</td>\n",
       "    </tr>\n",
       "    <tr>\n",
       "      <th>12</th>\n",
       "      <td>2023-11-21</td>\n",
       "      <td>12</td>\n",
       "      <td>Patchy rain possible</td>\n",
       "      <td>31.5</td>\n",
       "      <td>1</td>\n",
       "      <td>79</td>\n",
       "    </tr>\n",
       "    <tr>\n",
       "      <th>13</th>\n",
       "      <td>2023-11-21</td>\n",
       "      <td>13</td>\n",
       "      <td>Patchy rain possible</td>\n",
       "      <td>32.7</td>\n",
       "      <td>0</td>\n",
       "      <td>64</td>\n",
       "    </tr>\n",
       "    <tr>\n",
       "      <th>14</th>\n",
       "      <td>2023-11-21</td>\n",
       "      <td>14</td>\n",
       "      <td>Patchy rain possible</td>\n",
       "      <td>33.1</td>\n",
       "      <td>1</td>\n",
       "      <td>89</td>\n",
       "    </tr>\n",
       "    <tr>\n",
       "      <th>15</th>\n",
       "      <td>2023-11-21</td>\n",
       "      <td>15</td>\n",
       "      <td>Patchy rain possible</td>\n",
       "      <td>33.1</td>\n",
       "      <td>0</td>\n",
       "      <td>64</td>\n",
       "    </tr>\n",
       "    <tr>\n",
       "      <th>16</th>\n",
       "      <td>2023-11-21</td>\n",
       "      <td>16</td>\n",
       "      <td>Patchy light rain with thunder</td>\n",
       "      <td>31.8</td>\n",
       "      <td>1</td>\n",
       "      <td>85</td>\n",
       "    </tr>\n",
       "    <tr>\n",
       "      <th>17</th>\n",
       "      <td>2023-11-21</td>\n",
       "      <td>17</td>\n",
       "      <td>Patchy light rain with thunder</td>\n",
       "      <td>29.9</td>\n",
       "      <td>1</td>\n",
       "      <td>73</td>\n",
       "    </tr>\n",
       "    <tr>\n",
       "      <th>18</th>\n",
       "      <td>2023-11-21</td>\n",
       "      <td>18</td>\n",
       "      <td>Patchy rain possible</td>\n",
       "      <td>23.2</td>\n",
       "      <td>0</td>\n",
       "      <td>65</td>\n",
       "    </tr>\n",
       "    <tr>\n",
       "      <th>19</th>\n",
       "      <td>2023-11-21</td>\n",
       "      <td>19</td>\n",
       "      <td>Patchy rain possible</td>\n",
       "      <td>22.4</td>\n",
       "      <td>0</td>\n",
       "      <td>68</td>\n",
       "    </tr>\n",
       "    <tr>\n",
       "      <th>20</th>\n",
       "      <td>2023-11-21</td>\n",
       "      <td>20</td>\n",
       "      <td>Patchy rain possible</td>\n",
       "      <td>20.1</td>\n",
       "      <td>0</td>\n",
       "      <td>61</td>\n",
       "    </tr>\n",
       "    <tr>\n",
       "      <th>21</th>\n",
       "      <td>2023-11-21</td>\n",
       "      <td>21</td>\n",
       "      <td>Partly cloudy</td>\n",
       "      <td>19.4</td>\n",
       "      <td>0</td>\n",
       "      <td>0</td>\n",
       "    </tr>\n",
       "    <tr>\n",
       "      <th>22</th>\n",
       "      <td>2023-11-21</td>\n",
       "      <td>22</td>\n",
       "      <td>Clear</td>\n",
       "      <td>18.4</td>\n",
       "      <td>0</td>\n",
       "      <td>0</td>\n",
       "    </tr>\n",
       "    <tr>\n",
       "      <th>23</th>\n",
       "      <td>2023-11-21</td>\n",
       "      <td>23</td>\n",
       "      <td>Clear</td>\n",
       "      <td>17.7</td>\n",
       "      <td>0</td>\n",
       "      <td>0</td>\n",
       "    </tr>\n",
       "  </tbody>\n",
       "</table>\n",
       "</div>"
      ],
      "text/plain": [
       "         Fecha  Hora                       Condicion  Temperatura  Lluvia  \\\n",
       "0   2023-11-21     0                           Clear         19.1       0   \n",
       "1   2023-11-21     1                           Clear         30.0       0   \n",
       "2   2023-11-21     2                           Clear         17.4       0   \n",
       "3   2023-11-21     3                           Clear         17.2       0   \n",
       "4   2023-11-21     4            Patchy rain possible         16.0       1   \n",
       "5   2023-11-21     5                           Clear         15.9       0   \n",
       "6   2023-11-21     6                           Clear         15.7       0   \n",
       "7   2023-11-21     7                           Sunny         17.9       0   \n",
       "8   2023-11-21     8                           Sunny         23.9       0   \n",
       "9   2023-11-21     9                           Sunny         25.9       0   \n",
       "10  2023-11-21    10                           Sunny         28.0       0   \n",
       "11  2023-11-21    11            Patchy rain possible         29.9       1   \n",
       "12  2023-11-21    12            Patchy rain possible         31.5       1   \n",
       "13  2023-11-21    13            Patchy rain possible         32.7       0   \n",
       "14  2023-11-21    14            Patchy rain possible         33.1       1   \n",
       "15  2023-11-21    15            Patchy rain possible         33.1       0   \n",
       "16  2023-11-21    16  Patchy light rain with thunder         31.8       1   \n",
       "17  2023-11-21    17  Patchy light rain with thunder         29.9       1   \n",
       "18  2023-11-21    18            Patchy rain possible         23.2       0   \n",
       "19  2023-11-21    19            Patchy rain possible         22.4       0   \n",
       "20  2023-11-21    20            Patchy rain possible         20.1       0   \n",
       "21  2023-11-21    21                   Partly cloudy         19.4       0   \n",
       "22  2023-11-21    22                           Clear         18.4       0   \n",
       "23  2023-11-21    23                           Clear         17.7       0   \n",
       "\n",
       "    Prob_lluvia  \n",
       "0             0  \n",
       "1             0  \n",
       "2             0  \n",
       "3             0  \n",
       "4            71  \n",
       "5             0  \n",
       "6             0  \n",
       "7             0  \n",
       "8             0  \n",
       "9             0  \n",
       "10            0  \n",
       "11           85  \n",
       "12           79  \n",
       "13           64  \n",
       "14           89  \n",
       "15           64  \n",
       "16           85  \n",
       "17           73  \n",
       "18           65  \n",
       "19           68  \n",
       "20           61  \n",
       "21            0  \n",
       "22            0  \n",
       "23            0  "
      ]
     },
     "execution_count": 128,
     "metadata": {},
     "output_type": "execute_result"
    }
   ],
   "source": [
    "df"
   ]
  },
  {
   "cell_type": "code",
   "execution_count": 130,
   "metadata": {},
   "outputs": [
    {
     "data": {
      "text/plain": [
       "Fecha           object\n",
       "Hora             int64\n",
       "Condicion       object\n",
       "Temperatura    float64\n",
       "Lluvia           int64\n",
       "Prob_lluvia      int64\n",
       "dtype: object"
      ]
     },
     "execution_count": 130,
     "metadata": {},
     "output_type": "execute_result"
    }
   ],
   "source": [
    "df.dtypes"
   ]
  },
  {
   "cell_type": "code",
   "execution_count": 133,
   "metadata": {},
   "outputs": [
    {
     "data": {
      "text/html": [
       "<div>\n",
       "<style scoped>\n",
       "    .dataframe tbody tr th:only-of-type {\n",
       "        vertical-align: middle;\n",
       "    }\n",
       "\n",
       "    .dataframe tbody tr th {\n",
       "        vertical-align: top;\n",
       "    }\n",
       "\n",
       "    .dataframe thead th {\n",
       "        text-align: right;\n",
       "    }\n",
       "</style>\n",
       "<table border=\"1\" class=\"dataframe\">\n",
       "  <thead>\n",
       "    <tr style=\"text-align: right;\">\n",
       "      <th></th>\n",
       "      <th>Condicion</th>\n",
       "    </tr>\n",
       "    <tr>\n",
       "      <th>Hora</th>\n",
       "      <th></th>\n",
       "    </tr>\n",
       "  </thead>\n",
       "  <tbody>\n",
       "    <tr>\n",
       "      <th>11</th>\n",
       "      <td>Patchy rain possible</td>\n",
       "    </tr>\n",
       "    <tr>\n",
       "      <th>12</th>\n",
       "      <td>Patchy rain possible</td>\n",
       "    </tr>\n",
       "    <tr>\n",
       "      <th>14</th>\n",
       "      <td>Patchy rain possible</td>\n",
       "    </tr>\n",
       "    <tr>\n",
       "      <th>16</th>\n",
       "      <td>Patchy light rain with thunder</td>\n",
       "    </tr>\n",
       "    <tr>\n",
       "      <th>17</th>\n",
       "      <td>Patchy light rain with thunder</td>\n",
       "    </tr>\n",
       "  </tbody>\n",
       "</table>\n",
       "</div>"
      ],
      "text/plain": [
       "                           Condicion\n",
       "Hora                                \n",
       "11              Patchy rain possible\n",
       "12              Patchy rain possible\n",
       "14              Patchy rain possible\n",
       "16    Patchy light rain with thunder\n",
       "17    Patchy light rain with thunder"
      ]
     },
     "execution_count": 133,
     "metadata": {},
     "output_type": "execute_result"
    }
   ],
   "source": [
    "df_rain = df[(df['Lluvia']==1) & (df['Hora']>=6)]\n",
    "df_rain = df_rain[['Hora','Condicion']]\n",
    "df_rain = df_rain.set_index('Hora')\n",
    "df_rain"
   ]
  },
  {
   "cell_type": "code",
   "execution_count": 137,
   "metadata": {},
   "outputs": [
    {
     "data": {
      "text/plain": [
       "'Hola!\\nEl pronostico de lluvia para hoy 2023-11-21 en San Salvador de Jujuy es:\\n                           Condicion\\nHora                                \\n11              Patchy rain possible\\n12              Patchy rain possible\\n14              Patchy rain possible\\n16    Patchy light rain with thunder\\n17    Patchy light rain with thunder'"
      ]
     },
     "execution_count": 137,
     "metadata": {},
     "output_type": "execute_result"
    }
   ],
   "source": [
    "# MENSAJE\n",
    "mensaje = f\"Hola!\\nEl pronostico de lluvia para hoy {df['Fecha'][0]} en {query} es:\\n{str(df_rain)}\"\n",
    "mensaje"
   ]
  },
  {
   "cell_type": "code",
   "execution_count": 135,
   "metadata": {},
   "outputs": [
    {
     "data": {
      "text/plain": [
       "'+1 720 583 9694'"
      ]
     },
     "execution_count": 135,
     "metadata": {},
     "output_type": "execute_result"
    }
   ],
   "source": [
    "# NUMERO\n",
    "PHONE_NUMBER"
   ]
  },
  {
   "cell_type": "code",
   "execution_count": 141,
   "metadata": {},
   "outputs": [
    {
     "name": "stdout",
     "output_type": "stream",
     "text": [
      "Mensaje enviado!  SM3218edb3daf1e564ffa15d6b311ef961\n"
     ]
    }
   ],
   "source": [
    "#import os\n",
    "#from twilio.rest import Client\n",
    "\n",
    "\n",
    "# Find your Account SID and Auth Token at twilio.com/console\n",
    "# and set the environment variables. See http://twil.io/secure\n",
    "account_sid = TWILIO_ACCOUNT_SID\n",
    "auth_token = TWILIO_AUTH_TOKEN\n",
    "\n",
    "client = Client(account_sid, auth_token)\n",
    "\n",
    "message = client.messages \\\n",
    "    .create(\n",
    "        body=mensaje,\n",
    "        from_=PHONE_NUMBER,\n",
    "        to='+543886857117'\n",
    "    )\n",
    "\n",
    "print('Mensaje enviado! ',message.sid)"
   ]
  }
 ],
 "metadata": {
  "kernelspec": {
   "display_name": "venv",
   "language": "python",
   "name": "python3"
  },
  "language_info": {
   "codemirror_mode": {
    "name": "ipython",
    "version": 3
   },
   "file_extension": ".py",
   "mimetype": "text/x-python",
   "name": "python",
   "nbconvert_exporter": "python",
   "pygments_lexer": "ipython3",
   "version": "3.9.5"
  }
 },
 "nbformat": 4,
 "nbformat_minor": 2
}
